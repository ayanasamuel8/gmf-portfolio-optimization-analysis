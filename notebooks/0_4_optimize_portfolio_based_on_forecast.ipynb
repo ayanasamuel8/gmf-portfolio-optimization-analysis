{
  "cells": [
    {
      "cell_type": "code",
      "execution_count": 19,
      "metadata": {
        "id": "jSZ1ah44_SCO"
      },
      "outputs": [],
      "source": [
        "import pandas as pd\n",
        "import numpy as np\n",
        "import matplotlib.pyplot as plt\n",
        "from pypfopt import EfficientFrontier, risk_models, expected_returns, plotting"
      ]
    },
    {
      "cell_type": "code",
      "execution_count": null,
      "metadata": {
        "colab": {
          "base_uri": "https://localhost:8080/"
        },
        "id": "HKjOPvMbL1FV",
        "outputId": "8cae62fa-a993-46ac-e832-708792dc2fce"
      },
      "outputs": [
        {
          "name": "stdout",
          "output_type": "stream",
          "text": [
            "--- Step 1: Loading Data ---\n",
            "Data loaded successfully.\n",
            "\n",
            "Historical Prices Head:\n",
            "                 TSLA        BND         SPY\n",
            "Date                                        \n",
            "2015-08-12  15.878000  61.582954  176.114136\n",
            "2015-08-13  16.167334  61.454891  175.894989\n",
            "2015-08-14  16.209999  61.432293  176.535599\n",
            "2015-08-17  16.999332  61.545296  177.521866\n",
            "2015-08-18  17.381332  61.432293  177.007675\n",
            "\n",
            "TSLA Forecast Head:\n",
            "            Mean_Forecast   Lower_CI   Upper_CI\n",
            "2025-07-31      312.45743  286.44626  338.46860\n",
            "2025-08-01      309.80066  280.87620  338.72513\n",
            "2025-08-04      306.95520  284.27460  329.63580\n",
            "2025-08-05      300.63230  273.30347  327.96112\n",
            "2025-08-06      296.32883  271.15262  321.50504\n"
          ]
        }
      ],
      "source": [
        "################################################################################\n",
        "# Step 1: Load Historical and Forecasted Data\n",
        "################################################################################\n",
        "print(\"--- Step 1: Loading Data ---\")\n",
        "\n",
        "# Load the fully processed historical data for all assets\n",
        "try:\n",
        "    all_assets_df = pd.read_csv('../data/processed/all_assets_processed.csv', index_col='Date', parse_dates=True)\n",
        "    # We only need the closing prices for this task\n",
        "    prices_df = all_assets_df.filter(like='Close')\n",
        "    prices_df.columns = [col.replace('Close_', '') for col in prices_df.columns]\n",
        "except FileNotFoundError:\n",
        "    print(\"FATAL ERROR: all_assets_processed.csv not found. Please run the data processing script from Task 1.\")\n",
        "    # Exit or handle error appropriately\n",
        "\n",
        "# Load the saved TSLA forecast from Task 3\n",
        "try:\n",
        "    tsla_forecast_df = pd.read_csv('../data/processed/tsla_12m_forecast.csv', index_col=0, parse_dates=True)\n",
        "except FileNotFoundError:\n",
        "    print(\"FATAL ERROR: tsla_12m_forecast.csv not found. Please run the forecasting notebook from Task 3.\")\n",
        "    # Exit or handle error appropriately\n",
        "\n",
        "print(\"Data loaded successfully.\")\n",
        "print(\"\\nHistorical Prices Head:\")\n",
        "print(prices_df.head())\n",
        "print(\"\\nTSLA Forecast Head:\")\n",
        "print(tsla_forecast_df.head())"
      ]
    },
    {
      "cell_type": "code",
      "execution_count": 22,
      "metadata": {
        "colab": {
          "base_uri": "https://localhost:8080/"
        },
        "id": "jedYbZRAMHHy",
        "outputId": "35011322-31bb-4678-891e-9a2ab7a28f90"
      },
      "outputs": [
        {
          "name": "stdout",
          "output_type": "stream",
          "text": [
            "\n",
            "--- Step 2: Calculating Expected Annual Returns ---\n",
            "Last Historical TSLA Price: $319.04\n",
            "Final Forecasted TSLA Price (12m): $191.16\n",
            "Forecasted Annual Return for TSLA: -40.08%\n",
            "\n",
            "Final Expected Annual Returns vector (mu):\n",
            "SPY     0.137612\n",
            "BND     0.017184\n",
            "TSLA   -0.400814\n",
            "dtype: float64\n"
          ]
        }
      ],
      "source": [
        "################################################################################\n",
        "# Step 2: Calculate Expected Annual Returns (mu)\n",
        "################################################################################\n",
        "print(\"\\n--- Step 2: Calculating Expected Annual Returns ---\")\n",
        "\n",
        "# --- For TSLA: Use the 12-month forecast ---\n",
        "# The expected return is the total return over the forecast period.\n",
        "last_historical_price_tsla = prices_df['TSLA'][-1]\n",
        "final_forecast_price_tsla = tsla_forecast_df['Mean_Forecast'][-1]\n",
        "\n",
        "expected_return_tsla = (final_forecast_price_tsla - last_historical_price_tsla) / last_historical_price_tsla\n",
        "\n",
        "print(f\"Last Historical TSLA Price: ${last_historical_price_tsla:.2f}\")\n",
        "print(f\"Final Forecasted TSLA Price (12m): ${final_forecast_price_tsla:.2f}\")\n",
        "print(f\"Forecasted Annual Return for TSLA: {expected_return_tsla:.2%}\")\n",
        "\n",
        "# --- For SPY and BND: Use historical average returns ---\n",
        "# PyPortfolioOpt has a helper function for this, which we'll use for consistency.\n",
        "# We calculate the mean historical return and annualize it.\n",
        "mu_historical = expected_returns.mean_historical_return(prices_df[['SPY', 'BND']])\n",
        "\n",
        "# Combine our forecast view with the historical data\n",
        "mu = mu_historical.copy()\n",
        "mu['TSLA'] = expected_return_tsla\n",
        "\n",
        "print(\"\\nFinal Expected Annual Returns vector (mu):\")\n",
        "print(mu)"
      ]
    },
    {
      "cell_type": "code",
      "execution_count": 23,
      "metadata": {
        "colab": {
          "base_uri": "https://localhost:8080/"
        },
        "id": "Kt4wVXetACiL",
        "outputId": "01a9d62d-7aec-447e-b5da-470ffecc6cbb"
      },
      "outputs": [
        {
          "name": "stdout",
          "output_type": "stream",
          "text": [
            "\n",
            "--- Step 3: Calculating Annualized Covariance Matrix ---\n",
            "\n",
            "Annualized Sample Covariance Matrix (S):\n",
            "        TSLA     BND     SPY\n",
            "TSLA  0.3518  0.0020  0.0533\n",
            "BND   0.0020  0.0030  0.0012\n",
            "SPY   0.0533  0.0012  0.0335\n"
          ]
        }
      ],
      "source": [
        "################################################################################\n",
        "# Step 3: Calculate the Annualized Covariance Matrix (S)\n",
        "################################################################################\n",
        "print(\"\\n--- Step 3: Calculating Annualized Covariance Matrix ---\")\n",
        "\n",
        "# The covariance matrix measures how asset returns move together.\n",
        "# We use the historical daily returns of all three assets.\n",
        "S = risk_models.sample_cov(prices_df)\n",
        "\n",
        "print(\"\\nAnnualized Sample Covariance Matrix (S):\")\n",
        "print(S.round(4))"
      ]
    },
    {
      "cell_type": "code",
      "execution_count": 24,
      "metadata": {
        "colab": {
          "base_uri": "https://localhost:8080/"
        },
        "id": "fSqfunIcADsS",
        "outputId": "a8c5bf68-160c-466b-b993-5718a820e126"
      },
      "outputs": [
        {
          "name": "stdout",
          "output_type": "stream",
          "text": [
            "\n",
            "--- Step 4: Optimizing for Key Portfolios ---\n",
            "\n",
            "1. Minimum Volatility Portfolio:\n",
            "Expected annual return: -0.5%\n",
            "Annual volatility: 5.4%\n",
            "Sharpe Ratio: -0.10\n",
            "\n",
            "2. Maximum Sharpe Ratio Portfolio:\n",
            "Expected annual return: 2.5%\n",
            "Annual volatility: 6.5%\n",
            "Sharpe Ratio: 0.38\n"
          ]
        }
      ],
      "source": [
        "################################################################################\n",
        "# Step 4: Run the Optimization to find Key Portfolios\n",
        "################################################################################\n",
        "print(\"\\n--- Step 4: Optimizing for Key Portfolios ---\")\n",
        "\n",
        "# Instantiate the EfficientFrontier object\n",
        "ef = EfficientFrontier(mu, S)\n",
        "\n",
        "# --- Find the Minimum Volatility Portfolio ---\n",
        "print(\"\\n1. Minimum Volatility Portfolio:\")\n",
        "min_vol_weights = ef.min_volatility()\n",
        "min_vol_performance = ef.portfolio_performance(verbose=True)\n",
        "\n",
        "# --- Find the Maximum Sharpe Ratio Portfolio ---\n",
        "# We need to instantiate a new object before running another optimization\n",
        "ef = EfficientFrontier(mu, S)\n",
        "print(\"\\n2. Maximum Sharpe Ratio Portfolio:\")\n",
        "max_sharpe_weights = ef.max_sharpe() # Risk-free rate defaults to 2%\n",
        "max_sharpe_performance = ef.portfolio_performance(verbose=True)"
      ]
    },
    {
      "cell_type": "code",
      "execution_count": 25,
      "metadata": {
        "colab": {
          "base_uri": "https://localhost:8080/",
          "height": 644
        },
        "id": "lMGO5hO3AFiR",
        "outputId": "365abece-ab3e-4755-dfa7-5a976dc6639d"
      },
      "outputs": [
        {
          "name": "stdout",
          "output_type": "stream",
          "text": [
            "\n",
            "--- Step 5: Plotting the Efficient Frontier ---\n"
          ]
        },
        {
          "data": {
            "image/png": "[encoded data removed]",
            "text/plain": [
              "<Figure size 1000x600 with 1 Axes>"
            ]
          },
          "metadata": {},
          "output_type": "display_data"
        }
      ],
      "source": [
        "################################################################################\n",
        "# Step 5: Plot the Efficient Frontier and Key Portfolios\n",
        "################################################################################\n",
        "print(\"\\n--- Step 5: Plotting the Efficient Frontier ---\")\n",
        "\n",
        "# PyPortfolioOpt's plotting functions are excellent for visualization.\n",
        "# We create a new clean EfficientFrontier object for plotting the frontier itself.\n",
        "ef_plot = EfficientFrontier(mu, S)\n",
        "\n",
        "fig, ax = plt.subplots(figsize=(10, 6))\n",
        "plotting.plot_efficient_frontier(ef_plot, ax=ax, show_assets=True)\n",
        "\n",
        "# Get the performance of the two key portfolios to plot them as points\n",
        "ret_min_vol, std_min_vol, _ = min_vol_performance\n",
        "ret_max_sharpe, std_max_sharpe, _ = max_sharpe_performance\n",
        "\n",
        "# Add markers for the two key portfolios\n",
        "ax.scatter(std_min_vol, ret_min_vol, marker=\"*\", color=\"green\", s=200, label=\"Minimum Volatility\")\n",
        "ax.scatter(std_max_sharpe, ret_max_sharpe, marker=\"*\", color=\"red\", s=200, label=\"Maximum Sharpe Ratio\")\n",
        "\n",
        "# Final plot adjustments\n",
        "ax.set_title(\"Efficient Frontier for TSLA, SPY, and BND\")\n",
        "ax.legend()\n",
        "plt.tight_layout()\n",
        "\n",
        "# Save the plot for the report\n",
        "plt.show()"
      ]
    },
    {
      "cell_type": "markdown",
      "metadata": {
        "id": "nNvByV5oNAwM"
      },
      "source": [
        "## Conclusion – Portfolio Optimization Based on LSTM Forecast\n",
        "\n",
        "Using **Modern Portfolio Theory (MPT)** and the LSTM model’s **bearish 12-month forecast** for TSLA (annualized return: **-40.08%**), we optimized a portfolio that balances return and risk given the outlook for TSLA, SPY, and BND.\n",
        "\n",
        "**Key Findings:**\n",
        "\n",
        "* **TSLA Avoidance:** The optimizer allocates **0% to TSLA** due to its high volatility and sharply negative expected return.\n",
        "* **Minimum Volatility Portfolio:** Allocates almost entirely to **BND**; expected return **-0.5%**, volatility **5.4%**.\n",
        "* **Maximum Sharpe Ratio Portfolio:** Combines **SPY** and **BND**, delivering **2.5% return** at **6.5% volatility** with a **Sharpe ratio of 0.38**.\n",
        "\n",
        "**Recommendation:**\n",
        "Adopt the **Maximum Sharpe Ratio Portfolio**:\n",
        "\n",
        "* **TSLA:** 0.0%\n",
        "* **SPY:** \\~21.8%\n",
        "* **BND:** \\~78.2%\n",
        "* **Expected Return:** 2.5%\n",
        "* **Annual Volatility:** 6.5%\n",
        "* **Sharpe Ratio:** 0.38\n",
        "\n",
        "**Rationale:**\n",
        "\n",
        "* **Risk Avoidance:** Eliminates exposure to the forecasted TSLA downturn.\n",
        "* **Efficient Risk/Reward:** Improves return from -0.5% to 2.5% with only a modest risk increase.\n",
        "* **Capital Preservation:** Leverages bonds for stability while retaining equity exposure for modest growth.\n",
        "\n",
        "**Final Note:**\n",
        "This allocation reflects the model’s signals, prioritizing **capital protection and low-risk returns**. It should be reassessed as market conditions and forecasts evolve.\n"
      ]
    }
  ],
  "metadata": {
    "accelerator": "GPU",
    "colab": {
      "gpuType": "T4",
      "provenance": []
    },
    "kernelspec": {
      "display_name": "Python 3",
      "name": "python3"
    },
    "language_info": {
      "name": "python"
    }
  },
  "nbformat": 4,
  "nbformat_minor": 0
}
